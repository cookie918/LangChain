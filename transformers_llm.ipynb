{
 "cells": [
  {
   "cell_type": "code",
   "execution_count": 1,
   "metadata": {},
   "outputs": [],
   "source": [
    "from transformers import AutoTokenizer, AutoModel"
   ]
  },
  {
   "cell_type": "code",
   "execution_count": 2,
   "metadata": {},
   "outputs": [
    {
     "name": "stderr",
     "output_type": "stream",
     "text": [
      "Setting eos_token is not supported, use the default one.\n",
      "Setting pad_token is not supported, use the default one.\n",
      "Setting unk_token is not supported, use the default one.\n"
     ]
    },
    {
     "data": {
      "application/vnd.jupyter.widget-view+json": {
       "model_id": "313df9153bd746109c0ca2c51d890f02",
       "version_major": 2,
       "version_minor": 0
      },
      "text/plain": [
       "Loading checkpoint shards:   0%|          | 0/7 [00:00<?, ?it/s]"
      ]
     },
     "metadata": {},
     "output_type": "display_data"
    }
   ],
   "source": [
    "tokenizer = AutoTokenizer.from_pretrained(\"./chatglm3-6b\", trust_remote_code=True)\n",
    "model = AutoModel.from_pretrained(\"./chatglm3-6b\", trust_remote_code=True)\n",
    "model = model.eval()"
   ]
  },
  {
   "cell_type": "code",
   "execution_count": 3,
   "metadata": {},
   "outputs": [
    {
     "name": "stdout",
     "output_type": "stream",
     "text": [
      "半岁是婴儿发育的重要时期，为了确保宝宝的健康成长，一般会进行半岁的儿保项目。这些项目主要包括以下几个方面：\n",
      "\n",
      "1. 体格检查：评估宝宝的生长发育情况，包括身高、体重、头围、胸围等。\n",
      "\n",
      "2. 营养评估：了解宝宝饮食习惯、营养摄入情况，评估是否需要添加辅食以及调整饮食结构。\n",
      "\n",
      "3. 心理健康：评估宝宝的情绪、认知、社交等心理发展情况，以及可能存在的心理问题。\n",
      "\n",
      "4. 行为评估：观察宝宝的生活规律、睡眠质量、大小便情况等，评估宝宝的行为习惯。\n",
      "\n",
      "5. 视力、听力、语音评估：检查宝宝的视力、听力、语音发育情况，排除可能存在的发育问题。\n",
      "\n",
      "6. 疫苗接种：按照我国的儿童免疫规划，为宝宝接种疫苗，预防疾病。\n",
      "\n",
      "7. 儿保医生建议：根据宝宝的具体情况，给予相应的儿保医生建议，如是否需要额外检查、治疗等。\n",
      "\n",
      "8. 家长教育：对家长进行育儿知识普及，指导家长如何科学育儿，提高育儿水平。\n",
      "\n",
      "以上是半岁儿保项目的主要内容，具体情况可能因地区、医院而有所不同。建议家长提前咨询当地的儿童医院或幼儿园，了解半岁儿保的具体项目和安排。\n",
      "[{'role': 'user', 'content': '小孩半岁的儿保项目一般都有什么?'}, {'role': 'assistant', 'metadata': '', 'content': '半岁是婴儿发育的重要时期，为了确保宝宝的健康成长，一般会进行半岁的儿保项目。这些项目主要包括以下几个方面：\\n\\n1. 体格检查：评估宝宝的生长发育情况，包括身高、体重、头围、胸围等。\\n\\n2. 营养评估：了解宝宝饮食习惯、营养摄入情况，评估是否需要添加辅食以及调整饮食结构。\\n\\n3. 心理健康：评估宝宝的情绪、认知、社交等心理发展情况，以及可能存在的心理问题。\\n\\n4. 行为评估：观察宝宝的生活规律、睡眠质量、大小便情况等，评估宝宝的行为习惯。\\n\\n5. 视力、听力、语音评估：检查宝宝的视力、听力、语音发育情况，排除可能存在的发育问题。\\n\\n6. 疫苗接种：按照我国的儿童免疫规划，为宝宝接种疫苗，预防疾病。\\n\\n7. 儿保医生建议：根据宝宝的具体情况，给予相应的儿保医生建议，如是否需要额外检查、治疗等。\\n\\n8. 家长教育：对家长进行育儿知识普及，指导家长如何科学育儿，提高育儿水平。\\n\\n以上是半岁儿保项目的主要内容，具体情况可能因地区、医院而有所不同。建议家长提前咨询当地的儿童医院或幼儿园，了解半岁儿保的具体项目和安排。'}]\n"
     ]
    }
   ],
   "source": [
    "response, history = model.chat(tokenizer, \"小孩半岁的儿保项目一般都有什么?\", history=[])\n",
    "print(response)\n",
    "print(history)"
   ]
  },
  {
   "cell_type": "code",
   "execution_count": 4,
   "metadata": {},
   "outputs": [
    {
     "name": "stdout",
     "output_type": "stream",
     "text": [
      "半岁是婴儿发育的重要时期，为了确保宝宝的健康成长，一般会进行半岁的儿保项目。这些项目主要包括以下几个方面：\n",
      "\n",
      "1. 体格检查：评估宝宝的生长发育情况，包括身高、体重、头围、胸围等。\n",
      "\n",
      "2. 营养评估：了解宝宝饮食习惯、营养摄入情况，评估是否需要添加辅食以及调整饮食结构。\n",
      "\n",
      "3. 心理健康：评估宝宝的情绪、认知、社交等心理发展情况，以及可能存在的心理问题。\n",
      "\n",
      "4. 行为评估：观察宝宝的生活规律、睡眠质量、大小便情况等，评估宝宝的行为习惯。\n",
      "\n",
      "5. 视力、听力、语音评估：检查宝宝的视力、听力、语音发育情况，排除可能存在的发育问题。\n",
      "\n",
      "6. 疫苗接种：按照我国的儿童免疫规划，为宝宝接种疫苗，预防疾病。\n",
      "\n",
      "7. 儿保医生建议：根据宝宝的具体情况，给予相应的儿保医生建议，如是否需要额外检查、治疗等。\n",
      "\n",
      "8. 家长教育：对家长进行育儿知识普及，指导家长如何科学育儿，提高育儿水平。\n",
      "\n",
      "以上是半岁儿保项目的主要内容，具体情况可能因地区、医院而有所不同。建议家长提前咨询当地的儿童医院或幼儿园，了解半岁儿保的具体项目和安排。\n",
      "[{'role': 'user', 'content': '小孩半岁的儿保项目一般都有什么?'}, {'role': 'assistant', 'metadata': '', 'content': '半岁是婴儿发育的重要时期，为了确保宝宝的健康成长，一般会进行半岁的儿保项目。这些项目主要包括以下几个方面：\\n\\n1. 体格检查：评估宝宝的生长发育情况，包括身高、体重、头围、胸围等。\\n\\n2. 营养评估：了解宝宝饮食习惯、营养摄入情况，评估是否需要添加辅食以及调整饮食结构。\\n\\n3. 心理健康：评估宝宝的情绪、认知、社交等心理发展情况，以及可能存在的心理问题。\\n\\n4. 行为评估：观察宝宝的生活规律、睡眠质量、大小便情况等，评估宝宝的行为习惯。\\n\\n5. 视力、听力、语音评估：检查宝宝的视力、听力、语音发育情况，排除可能存在的发育问题。\\n\\n6. 疫苗接种：按照我国的儿童免疫规划，为宝宝接种疫苗，预防疾病。\\n\\n7. 儿保医生建议：根据宝宝的具体情况，给予相应的儿保医生建议，如是否需要额外检查、治疗等。\\n\\n8. 家长教育：对家长进行育儿知识普及，指导家长如何科学育儿，提高育儿水平。\\n\\n以上是半岁儿保项目的主要内容，具体情况可能因地区、医院而有所不同。建议家长提前咨询当地的儿童医院或幼儿园，了解半岁儿保的具体项目和安排。'}, {'role': 'user', 'content': '小孩半岁的儿保项目一般都有什么?'}, {'role': 'assistant', 'metadata': '', 'content': '半岁是婴儿发育的重要时期，为了确保宝宝的健康成长，一般会进行半岁的儿保项目。这些项目主要包括以下几个方面：\\n\\n1. 体格检查：评估宝宝的生长发育情况，包括身高、体重、头围、胸围等。\\n\\n2. 营养评估：了解宝宝饮食习惯、营养摄入情况，评估是否需要添加辅食以及调整饮食结构。\\n\\n3. 心理健康：评估宝宝的情绪、认知、社交等心理发展情况，以及可能存在的心理问题。\\n\\n4. 行为评估：观察宝宝的生活规律、睡眠质量、大小便情况等，评估宝宝的行为习惯。\\n\\n5. 视力、听力、语音评估：检查宝宝的视力、听力、语音发育情况，排除可能存在的发育问题。\\n\\n6. 疫苗接种：按照我国的儿童免疫规划，为宝宝接种疫苗，预防疾病。\\n\\n7. 儿保医生建议：根据宝宝的具体情况，给予相应的儿保医生建议，如是否需要额外检查、治疗等。\\n\\n8. 家长教育：对家长进行育儿知识普及，指导家长如何科学育儿，提高育儿水平。\\n\\n以上是半岁儿保项目的主要内容，具体情况可能因地区、医院而有所不同。建议家长提前咨询当地的儿童医院或幼儿园，了解半岁儿保的具体项目和安排。'}]\n"
     ]
    }
   ],
   "source": [
    "response, history = model.chat(tokenizer, \"小孩半岁的儿保项目一般都有什么?\", history=history)\n",
    "print(response)\n",
    "print(history)"
   ]
  },
  {
   "cell_type": "code",
   "execution_count": 5,
   "metadata": {},
   "outputs": [
    {
     "name": "stderr",
     "output_type": "stream",
     "text": [
      "  WARNING: Failed to remove contents in a temporary directory 'E:\\app\\miniconda3\\envs\\LangChain\\Lib\\site-packages\\~~kenizers'.\n",
      "  You can safely remove it manually.\n",
      "ERROR: pip's dependency resolver does not currently take into account all the packages that are installed. This behaviour is the source of the following dependency conflicts.\n",
      "sentence-transformers 2.5.1 requires transformers<5.0.0,>=4.32.0, but you have transformers 4.30.2 which is incompatible.\n"
     ]
    }
   ],
   "source": [
    "!pip install protobuf transformers==4.30.2 cpm_kernels torch>=2.0 gradio mdtex2html sentencepiece accelerate\n"
   ]
  }
 ],
 "metadata": {
  "kernelspec": {
   "display_name": "LangChain",
   "language": "python",
   "name": "python3"
  },
  "language_info": {
   "codemirror_mode": {
    "name": "ipython",
    "version": 3
   },
   "file_extension": ".py",
   "mimetype": "text/x-python",
   "name": "python",
   "nbconvert_exporter": "python",
   "pygments_lexer": "ipython3",
   "version": "3.10.13"
  }
 },
 "nbformat": 4,
 "nbformat_minor": 2
}
