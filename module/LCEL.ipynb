{
 "cells": [
  {
   "cell_type": "code",
   "execution_count": 1,
   "metadata": {},
   "outputs": [],
   "source": [
    "import os\n",
    "os.environ[\"DASHSCOPE_API_KEY\"] = \"sk-5e56b4e6ddba4a6a8110e168d8dd8377\""
   ]
  },
  {
   "cell_type": "code",
   "execution_count": 5,
   "metadata": {},
   "outputs": [
    {
     "data": {
      "text/plain": [
       "'为什么冰淇淋总是参加派对？\\n因为它总是在“融化”人心！'"
      ]
     },
     "execution_count": 5,
     "metadata": {},
     "output_type": "execute_result"
    }
   ],
   "source": [
    "from langchain_core.output_parsers import StrOutputParser\n",
    "from langchain_core.prompts import ChatPromptTemplate\n",
    "from langchain_community.llms import Tongyi\n",
    "\n",
    "\n",
    "prompt = ChatPromptTemplate.from_template(\"将一个关于{topic}的笑话\")\n",
    "model = Tongyi()\n",
    "output_parser = StrOutputParser()\n",
    "\n",
    "chain = prompt | model | output_parser\n",
    "\n",
    "chain.invoke({\"topic\": \"冰淇淋\"})"
   ]
  },
  {
   "cell_type": "code",
   "execution_count": 10,
   "metadata": {},
   "outputs": [
    {
     "data": {
      "text/plain": [
       "'哈里森在 Kensho 工作。'"
      ]
     },
     "execution_count": 10,
     "metadata": {},
     "output_type": "execute_result"
    }
   ],
   "source": [
    "# 需要安装：\n",
    "# pip install langchain docarray tiktoken\n",
    "\n",
    "# from langchain_community.vectorstores import DocArrayInMemorySearch\n",
    "from langchain_core.output_parsers import StrOutputParser\n",
    "from langchain_core.prompts import ChatPromptTemplate\n",
    "from langchain_core.runnables import RunnableParallel, RunnablePassthrough\n",
    "from langchain_community.llms import Tongyi\n",
    "# from langchain_openai.embeddings import OpenAIEmbeddings\n",
    "\n",
    "# vectorstore = DocArrayInMemorySearch.from_texts(\n",
    "#     [\"harrison worked at kensho\", \"bears like to eat honey\"],\n",
    "#     embedding=OpenAIEmbeddings(),\n",
    "# )\n",
    "from langchain.embeddings import DashScopeEmbeddings\n",
    "from langchain_community.vectorstores import Chroma\n",
    "\n",
    "from langchain.schema import Document\n",
    "\n",
    "docs = [\n",
    "\n",
    "    Document(\n",
    "        page_content=\"哈里森曾在西安工作\",\n",
    "    ),\n",
    "    Document(\n",
    "        page_content=\"哈里森曾在 Kensho 工作\",\n",
    "    ),\n",
    "    Document(\n",
    "        page_content=\"熊喜欢吃蜂蜜\",\n",
    "    ),\n",
    "]\n",
    "\n",
    "embeddings = DashScopeEmbeddings(\n",
    "    model=\"text-embedding-v1\"\n",
    ")\n",
    "\n",
    "vectorstore = Chroma.from_documents(docs, embeddings)\n",
    "\n",
    "retriever = vectorstore.as_retriever()\n",
    "\n",
    "\n",
    "\n",
    "template = \"\"\"仅根据以下上下文回答问题:\n",
    "{context}\n",
    "\n",
    "Question: {question}\n",
    "\"\"\"\n",
    "prompt = ChatPromptTemplate.from_template(template)\n",
    "\n",
    "\n",
    "model = Tongyi()\n",
    "\n",
    "output_parser = StrOutputParser()\n",
    "\n",
    "setup_and_retrieval = RunnableParallel(\n",
    "    {\"context\": retriever, \"question\": RunnablePassthrough()}\n",
    ")\n",
    "chain = setup_and_retrieval | prompt | model | output_parser\n",
    "\n",
    "chain.invoke(\"哈里森在哪里工作?\")"
   ]
  }
 ],
 "metadata": {
  "kernelspec": {
   "display_name": "LangChain",
   "language": "python",
   "name": "python3"
  },
  "language_info": {
   "codemirror_mode": {
    "name": "ipython",
    "version": 3
   },
   "file_extension": ".py",
   "mimetype": "text/x-python",
   "name": "python",
   "nbconvert_exporter": "python",
   "pygments_lexer": "ipython3",
   "version": "3.10.13"
  }
 },
 "nbformat": 4,
 "nbformat_minor": 2
}
